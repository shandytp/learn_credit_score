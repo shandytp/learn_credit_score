{
 "cells": [
  {
   "cell_type": "code",
   "execution_count": 35,
   "id": "4548c96e",
   "metadata": {},
   "outputs": [],
   "source": [
    "from src.helper import load_pickle\n",
    "import pandas as pd\n",
    "import numpy as np\n",
    "import matplotlib.pyplot as plt\n",
    "import seaborn as sns\n",
    "from scipy.stats import chisquare"
   ]
  },
  {
   "cell_type": "markdown",
   "id": "443ab9c9",
   "metadata": {},
   "source": [
    "#### Combine train data for EDA "
   ]
  },
  {
   "cell_type": "code",
   "execution_count": 22,
   "id": "d7115c47",
   "metadata": {},
   "outputs": [],
   "source": [
    "X_train = load_pickle(\"data/processed/X_train.pkl\")\n",
    "y_train = load_pickle(\"data/processed/y_train.pkl\")"
   ]
  },
  {
   "cell_type": "code",
   "execution_count": 23,
   "id": "87abe899",
   "metadata": {
    "scrolled": true
   },
   "outputs": [
    {
     "data": {
      "text/html": [
       "<div>\n",
       "<style scoped>\n",
       "    .dataframe tbody tr th:only-of-type {\n",
       "        vertical-align: middle;\n",
       "    }\n",
       "\n",
       "    .dataframe tbody tr th {\n",
       "        vertical-align: top;\n",
       "    }\n",
       "\n",
       "    .dataframe thead th {\n",
       "        text-align: right;\n",
       "    }\n",
       "</style>\n",
       "<table border=\"1\" class=\"dataframe\">\n",
       "  <thead>\n",
       "    <tr style=\"text-align: right;\">\n",
       "      <th></th>\n",
       "      <th>SK_ID_CURR</th>\n",
       "      <th>NAME_CONTRACT_TYPE</th>\n",
       "      <th>CODE_GENDER</th>\n",
       "      <th>FLAG_OWN_CAR</th>\n",
       "      <th>AMT_INCOME_TOTAL</th>\n",
       "      <th>AMT_CREDIT</th>\n",
       "      <th>AMT_ANNUITY</th>\n",
       "      <th>AMT_GOODS_PRICE</th>\n",
       "      <th>TARGET</th>\n",
       "    </tr>\n",
       "  </thead>\n",
       "  <tbody>\n",
       "    <tr>\n",
       "      <th>185640</th>\n",
       "      <td>315203</td>\n",
       "      <td>Cash loans</td>\n",
       "      <td>F</td>\n",
       "      <td>N</td>\n",
       "      <td>135000.0</td>\n",
       "      <td>599778.0</td>\n",
       "      <td>28984.5</td>\n",
       "      <td>477000.0</td>\n",
       "      <td>0</td>\n",
       "    </tr>\n",
       "    <tr>\n",
       "      <th>266989</th>\n",
       "      <td>409335</td>\n",
       "      <td>Cash loans</td>\n",
       "      <td>F</td>\n",
       "      <td>N</td>\n",
       "      <td>112500.0</td>\n",
       "      <td>152820.0</td>\n",
       "      <td>18135.0</td>\n",
       "      <td>135000.0</td>\n",
       "      <td>0</td>\n",
       "    </tr>\n",
       "    <tr>\n",
       "      <th>37682</th>\n",
       "      <td>143649</td>\n",
       "      <td>Cash loans</td>\n",
       "      <td>M</td>\n",
       "      <td>Y</td>\n",
       "      <td>202500.0</td>\n",
       "      <td>540000.0</td>\n",
       "      <td>21546.0</td>\n",
       "      <td>540000.0</td>\n",
       "      <td>0</td>\n",
       "    </tr>\n",
       "    <tr>\n",
       "      <th>280087</th>\n",
       "      <td>424501</td>\n",
       "      <td>Cash loans</td>\n",
       "      <td>F</td>\n",
       "      <td>N</td>\n",
       "      <td>157500.0</td>\n",
       "      <td>1350000.0</td>\n",
       "      <td>37255.5</td>\n",
       "      <td>1350000.0</td>\n",
       "      <td>0</td>\n",
       "    </tr>\n",
       "    <tr>\n",
       "      <th>255967</th>\n",
       "      <td>396187</td>\n",
       "      <td>Cash loans</td>\n",
       "      <td>F</td>\n",
       "      <td>Y</td>\n",
       "      <td>180000.0</td>\n",
       "      <td>410476.5</td>\n",
       "      <td>37777.5</td>\n",
       "      <td>373500.0</td>\n",
       "      <td>0</td>\n",
       "    </tr>\n",
       "    <tr>\n",
       "      <th>...</th>\n",
       "      <td>...</td>\n",
       "      <td>...</td>\n",
       "      <td>...</td>\n",
       "      <td>...</td>\n",
       "      <td>...</td>\n",
       "      <td>...</td>\n",
       "      <td>...</td>\n",
       "      <td>...</td>\n",
       "      <td>...</td>\n",
       "    </tr>\n",
       "    <tr>\n",
       "      <th>206264</th>\n",
       "      <td>339077</td>\n",
       "      <td>Cash loans</td>\n",
       "      <td>F</td>\n",
       "      <td>N</td>\n",
       "      <td>112500.0</td>\n",
       "      <td>405000.0</td>\n",
       "      <td>22099.5</td>\n",
       "      <td>405000.0</td>\n",
       "      <td>0</td>\n",
       "    </tr>\n",
       "    <tr>\n",
       "      <th>123969</th>\n",
       "      <td>243760</td>\n",
       "      <td>Cash loans</td>\n",
       "      <td>F</td>\n",
       "      <td>Y</td>\n",
       "      <td>112500.0</td>\n",
       "      <td>1288350.0</td>\n",
       "      <td>37669.5</td>\n",
       "      <td>1125000.0</td>\n",
       "      <td>0</td>\n",
       "    </tr>\n",
       "    <tr>\n",
       "      <th>116922</th>\n",
       "      <td>235582</td>\n",
       "      <td>Cash loans</td>\n",
       "      <td>M</td>\n",
       "      <td>N</td>\n",
       "      <td>157500.0</td>\n",
       "      <td>117000.0</td>\n",
       "      <td>14013.0</td>\n",
       "      <td>117000.0</td>\n",
       "      <td>1</td>\n",
       "    </tr>\n",
       "    <tr>\n",
       "      <th>118218</th>\n",
       "      <td>237081</td>\n",
       "      <td>Cash loans</td>\n",
       "      <td>F</td>\n",
       "      <td>N</td>\n",
       "      <td>270000.0</td>\n",
       "      <td>900000.0</td>\n",
       "      <td>47952.0</td>\n",
       "      <td>900000.0</td>\n",
       "      <td>0</td>\n",
       "    </tr>\n",
       "    <tr>\n",
       "      <th>263659</th>\n",
       "      <td>405272</td>\n",
       "      <td>Cash loans</td>\n",
       "      <td>M</td>\n",
       "      <td>N</td>\n",
       "      <td>202500.0</td>\n",
       "      <td>225000.0</td>\n",
       "      <td>14377.5</td>\n",
       "      <td>225000.0</td>\n",
       "      <td>0</td>\n",
       "    </tr>\n",
       "  </tbody>\n",
       "</table>\n",
       "<p>1600 rows × 9 columns</p>\n",
       "</div>"
      ],
      "text/plain": [
       "        SK_ID_CURR NAME_CONTRACT_TYPE  ... AMT_GOODS_PRICE TARGET\n",
       "185640      315203         Cash loans  ...        477000.0      0\n",
       "266989      409335         Cash loans  ...        135000.0      0\n",
       "37682       143649         Cash loans  ...        540000.0      0\n",
       "280087      424501         Cash loans  ...       1350000.0      0\n",
       "255967      396187         Cash loans  ...        373500.0      0\n",
       "...            ...                ...  ...             ...    ...\n",
       "206264      339077         Cash loans  ...        405000.0      0\n",
       "123969      243760         Cash loans  ...       1125000.0      0\n",
       "116922      235582         Cash loans  ...        117000.0      1\n",
       "118218      237081         Cash loans  ...        900000.0      0\n",
       "263659      405272         Cash loans  ...        225000.0      0\n",
       "\n",
       "[1600 rows x 9 columns]"
      ]
     },
     "execution_count": 23,
     "metadata": {},
     "output_type": "execute_result"
    }
   ],
   "source": [
    "dataset = pd.concat([X_train, y_train], axis = 1)\n",
    "dataset"
   ]
  },
  {
   "cell_type": "markdown",
   "id": "003752c0",
   "metadata": {},
   "source": [
    "#### Drop ID Cols "
   ]
  },
  {
   "cell_type": "code",
   "execution_count": 24,
   "id": "bd8a13ee",
   "metadata": {},
   "outputs": [],
   "source": [
    "dataset = dataset.drop([\"SK_ID_CURR\"], axis = 1)"
   ]
  },
  {
   "cell_type": "markdown",
   "id": "889b44a3",
   "metadata": {},
   "source": [
    "#### Check missing values "
   ]
  },
  {
   "cell_type": "code",
   "execution_count": 25,
   "id": "7e250097",
   "metadata": {},
   "outputs": [
    {
     "data": {
      "text/plain": [
       "NAME_CONTRACT_TYPE    0\n",
       "CODE_GENDER           0\n",
       "FLAG_OWN_CAR          0\n",
       "AMT_INCOME_TOTAL      0\n",
       "AMT_CREDIT            0\n",
       "AMT_ANNUITY           0\n",
       "AMT_GOODS_PRICE       0\n",
       "TARGET                0\n",
       "dtype: int64"
      ]
     },
     "execution_count": 25,
     "metadata": {},
     "output_type": "execute_result"
    }
   ],
   "source": [
    "dataset.isna().sum()"
   ]
  },
  {
   "cell_type": "markdown",
   "id": "6c914180",
   "metadata": {},
   "source": [
    "#### Check datatype "
   ]
  },
  {
   "cell_type": "code",
   "execution_count": 26,
   "id": "597290cc",
   "metadata": {},
   "outputs": [
    {
     "data": {
      "text/plain": [
       "NAME_CONTRACT_TYPE     object\n",
       "CODE_GENDER            object\n",
       "FLAG_OWN_CAR           object\n",
       "AMT_INCOME_TOTAL      float64\n",
       "AMT_CREDIT            float64\n",
       "AMT_ANNUITY           float64\n",
       "AMT_GOODS_PRICE       float64\n",
       "TARGET                  int64\n",
       "dtype: object"
      ]
     },
     "execution_count": 26,
     "metadata": {},
     "output_type": "execute_result"
    }
   ],
   "source": [
    "dataset.dtypes"
   ]
  },
  {
   "cell_type": "markdown",
   "id": "3cba2fed",
   "metadata": {},
   "source": [
    "#### Check stats information"
   ]
  },
  {
   "cell_type": "code",
   "execution_count": 27,
   "id": "82a69463",
   "metadata": {},
   "outputs": [
    {
     "name": "stderr",
     "output_type": "stream",
     "text": [
      "/tmp/ipykernel_759/4231230252.py:1: FutureWarning: Dropping of nuisance columns in DataFrame reductions (with 'numeric_only=None') is deprecated; in a future version this will raise TypeError.  Select only valid columns before calling the reduction.\n",
      "  dataset.skew()\n"
     ]
    },
    {
     "data": {
      "text/plain": [
       "AMT_INCOME_TOTAL    2.716296\n",
       "AMT_CREDIT          1.233825\n",
       "AMT_ANNUITY         1.199859\n",
       "AMT_GOODS_PRICE     1.311878\n",
       "TARGET              3.099187\n",
       "dtype: float64"
      ]
     },
     "execution_count": 27,
     "metadata": {},
     "output_type": "execute_result"
    }
   ],
   "source": [
    "dataset.skew()"
   ]
  },
  {
   "cell_type": "markdown",
   "id": "2b80c310",
   "metadata": {},
   "source": [
    "#### Check data distribution "
   ]
  },
  {
   "cell_type": "code",
   "execution_count": 28,
   "id": "cd3c5da1",
   "metadata": {},
   "outputs": [],
   "source": [
    "num_cols = [\"AMT_INCOME_TOTAL\", \"AMT_CREDIT\", \"AMT_ANNUITY\", \"AMT_GOODS_PRICE\"]"
   ]
  },
  {
   "cell_type": "code",
   "execution_count": 29,
   "id": "22d51a55",
   "metadata": {},
   "outputs": [
    {
     "data": {
      "image/png": "[encoded data removed]",
      "text/plain": [
       "<Figure size 360x216 with 1 Axes>"
      ]
     },
     "metadata": {
      "needs_background": "light"
     },
     "output_type": "display_data"
    },
    {
     "data": {
      "image/png": "[encoded data removed]",
      "text/plain": [
       "<Figure size 432x288 with 1 Axes>"
      ]
     },
     "metadata": {
      "needs_background": "light"
     },
     "output_type": "display_data"
    },
    {
     "data": {
      "image/png": "[encoded data removed]",
      "text/plain": [
       "<Figure size 432x288 with 1 Axes>"
      ]
     },
     "metadata": {
      "needs_background": "light"
     },
     "output_type": "display_data"
    },
    {
     "data": {
      "image/png": "[encoded data removed]",
      "text/plain": [
       "<Figure size 432x288 with 1 Axes>"
      ]
     },
     "metadata": {
      "needs_background": "light"
     },
     "output_type": "display_data"
    }
   ],
   "source": [
    "plt.figure(figsize=(5, 3))\n",
    "\n",
    "for col in num_cols:\n",
    "    sns.kdeplot(data = dataset, x = col)\n",
    "    plt.axvline(dataset[col].mean(), 0, 1, color = \"g\")\n",
    "    plt.axvline(dataset[col].median(), 0, 1, color = \"k\")\n",
    "    plt.show()"
   ]
  },
  {
   "cell_type": "markdown",
   "id": "f3d1f7fd",
   "metadata": {},
   "source": [
    "#### Check correlation "
   ]
  },
  {
   "cell_type": "code",
   "execution_count": 30,
   "id": "ecfabe03",
   "metadata": {},
   "outputs": [
    {
     "data": {
      "text/plain": [
       "<AxesSubplot:>"
      ]
     },
     "execution_count": 30,
     "metadata": {},
     "output_type": "execute_result"
    },
    {
     "data": {
      "image/png": "[encoded data removed]",
      "text/plain": [
       "<Figure size 432x288 with 2 Axes>"
      ]
     },
     "metadata": {
      "needs_background": "light"
     },
     "output_type": "display_data"
    }
   ],
   "source": [
    "sns.heatmap(dataset.corr(), annot=True)"
   ]
  },
  {
   "cell_type": "markdown",
   "id": "f38c5a61",
   "metadata": {},
   "source": [
    "#### Check Variable Selection in Categorical cols "
   ]
  },
  {
   "cell_type": "code",
   "execution_count": 31,
   "id": "32618bcf",
   "metadata": {},
   "outputs": [
    {
     "data": {
      "text/html": [
       "<div>\n",
       "<style scoped>\n",
       "    .dataframe tbody tr th:only-of-type {\n",
       "        vertical-align: middle;\n",
       "    }\n",
       "\n",
       "    .dataframe tbody tr th {\n",
       "        vertical-align: top;\n",
       "    }\n",
       "\n",
       "    .dataframe thead th {\n",
       "        text-align: right;\n",
       "    }\n",
       "</style>\n",
       "<table border=\"1\" class=\"dataframe\">\n",
       "  <thead>\n",
       "    <tr style=\"text-align: right;\">\n",
       "      <th>TARGET</th>\n",
       "      <th>0</th>\n",
       "      <th>1</th>\n",
       "    </tr>\n",
       "    <tr>\n",
       "      <th>CODE_GENDER</th>\n",
       "      <th></th>\n",
       "      <th></th>\n",
       "    </tr>\n",
       "  </thead>\n",
       "  <tbody>\n",
       "    <tr>\n",
       "      <th>F</th>\n",
       "      <td>992</td>\n",
       "      <td>73</td>\n",
       "    </tr>\n",
       "    <tr>\n",
       "      <th>M</th>\n",
       "      <td>480</td>\n",
       "      <td>55</td>\n",
       "    </tr>\n",
       "  </tbody>\n",
       "</table>\n",
       "</div>"
      ],
      "text/plain": [
       "TARGET         0   1\n",
       "CODE_GENDER         \n",
       "F            992  73\n",
       "M            480  55"
      ]
     },
     "execution_count": 31,
     "metadata": {},
     "output_type": "execute_result"
    }
   ],
   "source": [
    "pd.crosstab(dataset[\"CODE_GENDER\"], dataset[\"TARGET\"])"
   ]
  },
  {
   "cell_type": "code",
   "execution_count": 32,
   "id": "dbc83a41",
   "metadata": {},
   "outputs": [
    {
     "data": {
      "text/html": [
       "<div>\n",
       "<style scoped>\n",
       "    .dataframe tbody tr th:only-of-type {\n",
       "        vertical-align: middle;\n",
       "    }\n",
       "\n",
       "    .dataframe tbody tr th {\n",
       "        vertical-align: top;\n",
       "    }\n",
       "\n",
       "    .dataframe thead th {\n",
       "        text-align: right;\n",
       "    }\n",
       "</style>\n",
       "<table border=\"1\" class=\"dataframe\">\n",
       "  <thead>\n",
       "    <tr style=\"text-align: right;\">\n",
       "      <th>TARGET</th>\n",
       "      <th>0</th>\n",
       "      <th>1</th>\n",
       "    </tr>\n",
       "    <tr>\n",
       "      <th>NAME_CONTRACT_TYPE</th>\n",
       "      <th></th>\n",
       "      <th></th>\n",
       "    </tr>\n",
       "  </thead>\n",
       "  <tbody>\n",
       "    <tr>\n",
       "      <th>Cash loans</th>\n",
       "      <td>1351</td>\n",
       "      <td>117</td>\n",
       "    </tr>\n",
       "    <tr>\n",
       "      <th>Revolving loans</th>\n",
       "      <td>121</td>\n",
       "      <td>11</td>\n",
       "    </tr>\n",
       "  </tbody>\n",
       "</table>\n",
       "</div>"
      ],
      "text/plain": [
       "TARGET                 0    1\n",
       "NAME_CONTRACT_TYPE           \n",
       "Cash loans          1351  117\n",
       "Revolving loans      121   11"
      ]
     },
     "execution_count": 32,
     "metadata": {},
     "output_type": "execute_result"
    }
   ],
   "source": [
    "pd.crosstab(dataset[\"NAME_CONTRACT_TYPE\"], dataset[\"TARGET\"])"
   ]
  },
  {
   "cell_type": "code",
   "execution_count": 39,
   "id": "21a12bc7",
   "metadata": {},
   "outputs": [
    {
     "data": {
      "text/plain": [
       "Power_divergenceResult(statistic=array([116.4375 ,  30.03125]), pvalue=array([3.81205177e-27, 4.25139441e-08]))"
      ]
     },
     "execution_count": 39,
     "metadata": {},
     "output_type": "execute_result"
    }
   ],
   "source": [
    "chisquare(pd.crosstab(dataset[\"FLAG_OWN_CAR\"], dataset[\"TARGET\"]))"
   ]
  },
  {
   "cell_type": "code",
   "execution_count": 41,
   "id": "f22625df",
   "metadata": {},
   "outputs": [
    {
     "data": {
      "text/plain": [
       "<AxesSubplot:xlabel='AMT_INCOME_TOTAL'>"
      ]
     },
     "execution_count": 41,
     "metadata": {},
     "output_type": "execute_result"
    },
    {
     "data": {
      "image/png": "[encoded data removed]",
      "text/plain": [
       "<Figure size 432x288 with 1 Axes>"
      ]
     },
     "metadata": {
      "needs_background": "light"
     },
     "output_type": "display_data"
    }
   ],
   "source": [
    "sns.boxplot(data = dataset, x=\"AMT_INCOME_TOTAL\")"
   ]
  },
  {
   "cell_type": "code",
   "execution_count": 42,
   "id": "b0c0d008",
   "metadata": {},
   "outputs": [
    {
     "data": {
      "text/plain": [
       "<AxesSubplot:xlabel='AMT_CREDIT'>"
      ]
     },
     "execution_count": 42,
     "metadata": {},
     "output_type": "execute_result"
    },
    {
     "data": {
      "image/png": "[encoded data removed]",
      "text/plain": [
       "<Figure size 432x288 with 1 Axes>"
      ]
     },
     "metadata": {
      "needs_background": "light"
     },
     "output_type": "display_data"
    }
   ],
   "source": [
    "sns.boxplot(data = dataset, x=\"AMT_CREDIT\")"
   ]
  },
  {
   "cell_type": "code",
   "execution_count": 43,
   "id": "68867d31",
   "metadata": {},
   "outputs": [
    {
     "data": {
      "text/plain": [
       "<AxesSubplot:xlabel='AMT_ANNUITY'>"
      ]
     },
     "execution_count": 43,
     "metadata": {},
     "output_type": "execute_result"
    },
    {
     "data": {
      "image/png": "[encoded data removed]",
      "text/plain": [
       "<Figure size 432x288 with 1 Axes>"
      ]
     },
     "metadata": {
      "needs_background": "light"
     },
     "output_type": "display_data"
    }
   ],
   "source": [
    "sns.boxplot(data = dataset, x=\"AMT_ANNUITY\")"
   ]
  },
  {
   "cell_type": "code",
   "execution_count": 44,
   "id": "a6e8aa75",
   "metadata": {},
   "outputs": [
    {
     "data": {
      "text/plain": [
       "<AxesSubplot:xlabel='AMT_GOODS_PRICE'>"
      ]
     },
     "execution_count": 44,
     "metadata": {},
     "output_type": "execute_result"
    },
    {
     "data": {
      "image/png": "[encoded data removed]",
      "text/plain": [
       "<Figure size 432x288 with 1 Axes>"
      ]
     },
     "metadata": {
      "needs_background": "light"
     },
     "output_type": "display_data"
    }
   ],
   "source": [
    "sns.boxplot(data = dataset, x=\"AMT_GOODS_PRICE\")"
   ]
  },
  {
   "cell_type": "markdown",
   "id": "3b86fc37",
   "metadata": {},
   "source": [
    "#### Conclusion\n",
    "- ada beberapa outliers di numerical data, tapi yg paling parah ada di `AMT_INCOME_TOTAL`\n",
    "- untuk outliers nya beberapa bisa kita treat, tapi karena goals nya untuk belajar coba - coba untuk sementara tidak di treat dulu\n",
    "- untuk numerical data nya, tidak ada korelasi dengan target class. menarik\n",
    "- sebenernya masih pengen coba buat explore \"Feature Selection\" pake chisquare buat data categorical"
   ]
  }
 ],
 "metadata": {
  "kernelspec": {
   "display_name": "Python 3 (ipykernel)",
   "language": "python",
   "name": "python3"
  },
  "language_info": {
   "codemirror_mode": {
    "name": "ipython",
    "version": 3
   },
   "file_extension": ".py",
   "mimetype": "text/x-python",
   "name": "python",
   "nbconvert_exporter": "python",
   "pygments_lexer": "ipython3",
   "version": "3.9.12"
  }
 },
 "nbformat": 4,
 "nbformat_minor": 5
}
