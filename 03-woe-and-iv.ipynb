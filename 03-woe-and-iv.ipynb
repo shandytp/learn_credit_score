{
 "cells": [
  {
   "cell_type": "code",
   "execution_count": 1,
   "id": "b9d7a95f",
   "metadata": {},
   "outputs": [],
   "source": [
    "from src.helper import load_pickle\n",
    "import pandas as pd\n",
    "import numpy as np"
   ]
  },
  {
   "cell_type": "code",
   "execution_count": 2,
   "id": "83cf3440",
   "metadata": {},
   "outputs": [],
   "source": [
    "X_train = load_pickle(\"data/processed/X_train.pkl\")\n",
    "y_train = load_pickle(\"data/processed/y_train.pkl\")"
   ]
  },
  {
   "cell_type": "markdown",
   "id": "258b9b57",
   "metadata": {},
   "source": [
    "1. Bikin binning\n",
    "2. Cari good and bad distribution in each binning\n",
    "3. Hitung WOE\n",
    "4. Plot WOE\n",
    "5. Hitung IV nya"
   ]
  },
  {
   "cell_type": "code",
   "execution_count": null,
   "id": "27fc85a7",
   "metadata": {},
   "outputs": [],
   "source": []
  }
 ],
 "metadata": {
  "kernelspec": {
   "display_name": "Python 3 (ipykernel)",
   "language": "python",
   "name": "python3"
  },
  "language_info": {
   "codemirror_mode": {
    "name": "ipython",
    "version": 3
   },
   "file_extension": ".py",
   "mimetype": "text/x-python",
   "name": "python",
   "nbconvert_exporter": "python",
   "pygments_lexer": "ipython3",
   "version": "3.9.12"
  }
 },
 "nbformat": 4,
 "nbformat_minor": 5
}
