{
 "cells": [
  {
   "cell_type": "markdown",
   "id": "d3bf1b68",
   "metadata": {},
   "source": [
    "### Step\n",
    "\n",
    "Perlukah Data test nya di WOE dan binning?\n",
    "\n",
    "1. Modeling with logreg\n",
    "    - baseline\n",
    "    - logreg\n",
    "    - hyperparams\n",
    "2. Model Evaluation with:\n",
    "    - AUCROC\n",
    "    - Gini\n",
    "    - K-S\n",
    "3. Get weights and convert into final score"
   ]
  },
  {
   "cell_type": "code",
   "execution_count": 40,
   "id": "0026d230",
   "metadata": {},
   "outputs": [],
   "source": [
    "from src.helper import load_pickle, dump_pickle\n",
    "import pandas as pd\n",
    "import numpy as np\n",
    "import matplotlib.pyplot as plt\n",
    "import seaborn as sns"
   ]
  },
  {
   "cell_type": "markdown",
   "id": "a96c82e1",
   "metadata": {},
   "source": [
    "#### Load Data "
   ]
  },
  {
   "cell_type": "code",
   "execution_count": 41,
   "id": "133c8bde",
   "metadata": {},
   "outputs": [
    {
     "data": {
      "text/html": [
       "<div>\n",
       "<style scoped>\n",
       "    .dataframe tbody tr th:only-of-type {\n",
       "        vertical-align: middle;\n",
       "    }\n",
       "\n",
       "    .dataframe tbody tr th {\n",
       "        vertical-align: top;\n",
       "    }\n",
       "\n",
       "    .dataframe thead th {\n",
       "        text-align: right;\n",
       "    }\n",
       "</style>\n",
       "<table border=\"1\" class=\"dataframe\">\n",
       "  <thead>\n",
       "    <tr style=\"text-align: right;\">\n",
       "      <th></th>\n",
       "      <th>NAME_CONTRACT_TYPE_Cash loans</th>\n",
       "      <th>NAME_CONTRACT_TYPE_Revolving loans</th>\n",
       "      <th>CODE_GENDER_F</th>\n",
       "      <th>CODE_GENDER_M</th>\n",
       "      <th>FLAG_OWN_CAR_N</th>\n",
       "      <th>FLAG_OWN_CAR_Y</th>\n",
       "      <th>TARGET</th>\n",
       "      <th>AMT_INCOME_TOTAL_0_100k</th>\n",
       "      <th>AMT_INCOME_TOTAL_100k_150k</th>\n",
       "      <th>AMT_INCOME_TOTAL_150k_200k</th>\n",
       "      <th>...</th>\n",
       "      <th>AMT_CREDIT_800k_1m</th>\n",
       "      <th>AMT_CREDIT_1m</th>\n",
       "      <th>AMT_ANNUITY_20k</th>\n",
       "      <th>AMT_ANNUITY_30k</th>\n",
       "      <th>AMT_ANNUITY_46k</th>\n",
       "      <th>AMT_ANNUITY_50k</th>\n",
       "      <th>AMT_GOODS_PRICE_300k</th>\n",
       "      <th>AMT_GOODS_PRICE_600k</th>\n",
       "      <th>AMT_GOODS_PRICE_900k</th>\n",
       "      <th>AMT_GOODS_PRICE_1m</th>\n",
       "    </tr>\n",
       "  </thead>\n",
       "  <tbody>\n",
       "    <tr>\n",
       "      <th>185640</th>\n",
       "      <td>1.0</td>\n",
       "      <td>0.0</td>\n",
       "      <td>1.0</td>\n",
       "      <td>0.0</td>\n",
       "      <td>1.0</td>\n",
       "      <td>0.0</td>\n",
       "      <td>0</td>\n",
       "      <td>0</td>\n",
       "      <td>1</td>\n",
       "      <td>0</td>\n",
       "      <td>...</td>\n",
       "      <td>0</td>\n",
       "      <td>0</td>\n",
       "      <td>0</td>\n",
       "      <td>1</td>\n",
       "      <td>0</td>\n",
       "      <td>0</td>\n",
       "      <td>0</td>\n",
       "      <td>1</td>\n",
       "      <td>0</td>\n",
       "      <td>0</td>\n",
       "    </tr>\n",
       "    <tr>\n",
       "      <th>266989</th>\n",
       "      <td>1.0</td>\n",
       "      <td>0.0</td>\n",
       "      <td>1.0</td>\n",
       "      <td>0.0</td>\n",
       "      <td>1.0</td>\n",
       "      <td>0.0</td>\n",
       "      <td>0</td>\n",
       "      <td>0</td>\n",
       "      <td>1</td>\n",
       "      <td>0</td>\n",
       "      <td>...</td>\n",
       "      <td>0</td>\n",
       "      <td>0</td>\n",
       "      <td>1</td>\n",
       "      <td>0</td>\n",
       "      <td>0</td>\n",
       "      <td>0</td>\n",
       "      <td>1</td>\n",
       "      <td>0</td>\n",
       "      <td>0</td>\n",
       "      <td>0</td>\n",
       "    </tr>\n",
       "    <tr>\n",
       "      <th>37682</th>\n",
       "      <td>1.0</td>\n",
       "      <td>0.0</td>\n",
       "      <td>0.0</td>\n",
       "      <td>1.0</td>\n",
       "      <td>0.0</td>\n",
       "      <td>1.0</td>\n",
       "      <td>0</td>\n",
       "      <td>0</td>\n",
       "      <td>0</td>\n",
       "      <td>0</td>\n",
       "      <td>...</td>\n",
       "      <td>0</td>\n",
       "      <td>0</td>\n",
       "      <td>0</td>\n",
       "      <td>1</td>\n",
       "      <td>0</td>\n",
       "      <td>0</td>\n",
       "      <td>0</td>\n",
       "      <td>1</td>\n",
       "      <td>0</td>\n",
       "      <td>0</td>\n",
       "    </tr>\n",
       "    <tr>\n",
       "      <th>280087</th>\n",
       "      <td>1.0</td>\n",
       "      <td>0.0</td>\n",
       "      <td>1.0</td>\n",
       "      <td>0.0</td>\n",
       "      <td>1.0</td>\n",
       "      <td>0.0</td>\n",
       "      <td>0</td>\n",
       "      <td>0</td>\n",
       "      <td>0</td>\n",
       "      <td>1</td>\n",
       "      <td>...</td>\n",
       "      <td>0</td>\n",
       "      <td>1</td>\n",
       "      <td>0</td>\n",
       "      <td>0</td>\n",
       "      <td>1</td>\n",
       "      <td>0</td>\n",
       "      <td>0</td>\n",
       "      <td>0</td>\n",
       "      <td>0</td>\n",
       "      <td>1</td>\n",
       "    </tr>\n",
       "    <tr>\n",
       "      <th>255967</th>\n",
       "      <td>1.0</td>\n",
       "      <td>0.0</td>\n",
       "      <td>1.0</td>\n",
       "      <td>0.0</td>\n",
       "      <td>0.0</td>\n",
       "      <td>1.0</td>\n",
       "      <td>0</td>\n",
       "      <td>0</td>\n",
       "      <td>0</td>\n",
       "      <td>1</td>\n",
       "      <td>...</td>\n",
       "      <td>0</td>\n",
       "      <td>0</td>\n",
       "      <td>0</td>\n",
       "      <td>0</td>\n",
       "      <td>1</td>\n",
       "      <td>0</td>\n",
       "      <td>0</td>\n",
       "      <td>1</td>\n",
       "      <td>0</td>\n",
       "      <td>0</td>\n",
       "    </tr>\n",
       "  </tbody>\n",
       "</table>\n",
       "<p>5 rows × 27 columns</p>\n",
       "</div>"
      ],
      "text/plain": [
       "        NAME_CONTRACT_TYPE_Cash loans  NAME_CONTRACT_TYPE_Revolving loans  \\\n",
       "185640                            1.0                                 0.0   \n",
       "266989                            1.0                                 0.0   \n",
       "37682                             1.0                                 0.0   \n",
       "280087                            1.0                                 0.0   \n",
       "255967                            1.0                                 0.0   \n",
       "\n",
       "        CODE_GENDER_F  CODE_GENDER_M  FLAG_OWN_CAR_N  FLAG_OWN_CAR_Y  TARGET  \\\n",
       "185640            1.0            0.0             1.0             0.0       0   \n",
       "266989            1.0            0.0             1.0             0.0       0   \n",
       "37682             0.0            1.0             0.0             1.0       0   \n",
       "280087            1.0            0.0             1.0             0.0       0   \n",
       "255967            1.0            0.0             0.0             1.0       0   \n",
       "\n",
       "        AMT_INCOME_TOTAL_0_100k  AMT_INCOME_TOTAL_100k_150k  \\\n",
       "185640                        0                           1   \n",
       "266989                        0                           1   \n",
       "37682                         0                           0   \n",
       "280087                        0                           0   \n",
       "255967                        0                           0   \n",
       "\n",
       "        AMT_INCOME_TOTAL_150k_200k  ...  AMT_CREDIT_800k_1m  AMT_CREDIT_1m  \\\n",
       "185640                           0  ...                   0              0   \n",
       "266989                           0  ...                   0              0   \n",
       "37682                            0  ...                   0              0   \n",
       "280087                           1  ...                   0              1   \n",
       "255967                           1  ...                   0              0   \n",
       "\n",
       "        AMT_ANNUITY_20k  AMT_ANNUITY_30k  AMT_ANNUITY_46k  AMT_ANNUITY_50k  \\\n",
       "185640                0                1                0                0   \n",
       "266989                1                0                0                0   \n",
       "37682                 0                1                0                0   \n",
       "280087                0                0                1                0   \n",
       "255967                0                0                1                0   \n",
       "\n",
       "        AMT_GOODS_PRICE_300k  AMT_GOODS_PRICE_600k  AMT_GOODS_PRICE_900k  \\\n",
       "185640                     0                     1                     0   \n",
       "266989                     1                     0                     0   \n",
       "37682                      0                     1                     0   \n",
       "280087                     0                     0                     0   \n",
       "255967                     0                     1                     0   \n",
       "\n",
       "        AMT_GOODS_PRICE_1m  \n",
       "185640                   0  \n",
       "266989                   0  \n",
       "37682                    0  \n",
       "280087                   1  \n",
       "255967                   0  \n",
       "\n",
       "[5 rows x 27 columns]"
      ]
     },
     "execution_count": 41,
     "metadata": {},
     "output_type": "execute_result"
    }
   ],
   "source": [
    "dataset = load_pickle(\"data/processed/final_train_v3.pkl\")\n",
    "\n",
    "dataset.head()"
   ]
  },
  {
   "cell_type": "code",
   "execution_count": 42,
   "id": "2b32a8eb",
   "metadata": {},
   "outputs": [
    {
     "data": {
      "text/html": [
       "<div>\n",
       "<style scoped>\n",
       "    .dataframe tbody tr th:only-of-type {\n",
       "        vertical-align: middle;\n",
       "    }\n",
       "\n",
       "    .dataframe tbody tr th {\n",
       "        vertical-align: top;\n",
       "    }\n",
       "\n",
       "    .dataframe thead th {\n",
       "        text-align: right;\n",
       "    }\n",
       "</style>\n",
       "<table border=\"1\" class=\"dataframe\">\n",
       "  <thead>\n",
       "    <tr style=\"text-align: right;\">\n",
       "      <th></th>\n",
       "      <th>NAME_CONTRACT_TYPE_Cash loans</th>\n",
       "      <th>NAME_CONTRACT_TYPE_Revolving loans</th>\n",
       "      <th>CODE_GENDER_F</th>\n",
       "      <th>CODE_GENDER_M</th>\n",
       "      <th>FLAG_OWN_CAR_N</th>\n",
       "      <th>FLAG_OWN_CAR_Y</th>\n",
       "      <th>TARGET</th>\n",
       "      <th>AMT_INCOME_TOTAL_0_100k</th>\n",
       "      <th>AMT_INCOME_TOTAL_100k_150k</th>\n",
       "      <th>AMT_INCOME_TOTAL_150k_200k</th>\n",
       "      <th>...</th>\n",
       "      <th>AMT_CREDIT_800k_1m</th>\n",
       "      <th>AMT_CREDIT_1m</th>\n",
       "      <th>AMT_ANNUITY_20k</th>\n",
       "      <th>AMT_ANNUITY_30k</th>\n",
       "      <th>AMT_ANNUITY_46k</th>\n",
       "      <th>AMT_ANNUITY_50k</th>\n",
       "      <th>AMT_GOODS_PRICE_300k</th>\n",
       "      <th>AMT_GOODS_PRICE_600k</th>\n",
       "      <th>AMT_GOODS_PRICE_900k</th>\n",
       "      <th>AMT_GOODS_PRICE_1m</th>\n",
       "    </tr>\n",
       "  </thead>\n",
       "  <tbody>\n",
       "    <tr>\n",
       "      <th>54382</th>\n",
       "      <td>1.0</td>\n",
       "      <td>0.0</td>\n",
       "      <td>1.0</td>\n",
       "      <td>0.0</td>\n",
       "      <td>1.0</td>\n",
       "      <td>0.0</td>\n",
       "      <td>0</td>\n",
       "      <td>0</td>\n",
       "      <td>1</td>\n",
       "      <td>0</td>\n",
       "      <td>...</td>\n",
       "      <td>0</td>\n",
       "      <td>1</td>\n",
       "      <td>0</td>\n",
       "      <td>0</td>\n",
       "      <td>1</td>\n",
       "      <td>0</td>\n",
       "      <td>0</td>\n",
       "      <td>0</td>\n",
       "      <td>0</td>\n",
       "      <td>0</td>\n",
       "    </tr>\n",
       "    <tr>\n",
       "      <th>252585</th>\n",
       "      <td>1.0</td>\n",
       "      <td>0.0</td>\n",
       "      <td>1.0</td>\n",
       "      <td>0.0</td>\n",
       "      <td>1.0</td>\n",
       "      <td>0.0</td>\n",
       "      <td>0</td>\n",
       "      <td>0</td>\n",
       "      <td>0</td>\n",
       "      <td>1</td>\n",
       "      <td>...</td>\n",
       "      <td>0</td>\n",
       "      <td>1</td>\n",
       "      <td>0</td>\n",
       "      <td>0</td>\n",
       "      <td>1</td>\n",
       "      <td>0</td>\n",
       "      <td>0</td>\n",
       "      <td>0</td>\n",
       "      <td>0</td>\n",
       "      <td>1</td>\n",
       "    </tr>\n",
       "    <tr>\n",
       "      <th>181435</th>\n",
       "      <td>1.0</td>\n",
       "      <td>0.0</td>\n",
       "      <td>1.0</td>\n",
       "      <td>0.0</td>\n",
       "      <td>1.0</td>\n",
       "      <td>0.0</td>\n",
       "      <td>0</td>\n",
       "      <td>0</td>\n",
       "      <td>1</td>\n",
       "      <td>0</td>\n",
       "      <td>...</td>\n",
       "      <td>0</td>\n",
       "      <td>0</td>\n",
       "      <td>0</td>\n",
       "      <td>1</td>\n",
       "      <td>0</td>\n",
       "      <td>0</td>\n",
       "      <td>1</td>\n",
       "      <td>0</td>\n",
       "      <td>0</td>\n",
       "      <td>0</td>\n",
       "    </tr>\n",
       "    <tr>\n",
       "      <th>116552</th>\n",
       "      <td>1.0</td>\n",
       "      <td>0.0</td>\n",
       "      <td>1.0</td>\n",
       "      <td>0.0</td>\n",
       "      <td>0.0</td>\n",
       "      <td>1.0</td>\n",
       "      <td>0</td>\n",
       "      <td>0</td>\n",
       "      <td>1</td>\n",
       "      <td>0</td>\n",
       "      <td>...</td>\n",
       "      <td>0</td>\n",
       "      <td>0</td>\n",
       "      <td>1</td>\n",
       "      <td>0</td>\n",
       "      <td>0</td>\n",
       "      <td>0</td>\n",
       "      <td>1</td>\n",
       "      <td>0</td>\n",
       "      <td>0</td>\n",
       "      <td>0</td>\n",
       "    </tr>\n",
       "    <tr>\n",
       "      <th>255329</th>\n",
       "      <td>1.0</td>\n",
       "      <td>0.0</td>\n",
       "      <td>1.0</td>\n",
       "      <td>0.0</td>\n",
       "      <td>1.0</td>\n",
       "      <td>0.0</td>\n",
       "      <td>0</td>\n",
       "      <td>0</td>\n",
       "      <td>0</td>\n",
       "      <td>0</td>\n",
       "      <td>...</td>\n",
       "      <td>1</td>\n",
       "      <td>0</td>\n",
       "      <td>0</td>\n",
       "      <td>0</td>\n",
       "      <td>0</td>\n",
       "      <td>1</td>\n",
       "      <td>0</td>\n",
       "      <td>0</td>\n",
       "      <td>0</td>\n",
       "      <td>0</td>\n",
       "    </tr>\n",
       "  </tbody>\n",
       "</table>\n",
       "<p>5 rows × 27 columns</p>\n",
       "</div>"
      ],
      "text/plain": [
       "        NAME_CONTRACT_TYPE_Cash loans  NAME_CONTRACT_TYPE_Revolving loans  \\\n",
       "54382                             1.0                                 0.0   \n",
       "252585                            1.0                                 0.0   \n",
       "181435                            1.0                                 0.0   \n",
       "116552                            1.0                                 0.0   \n",
       "255329                            1.0                                 0.0   \n",
       "\n",
       "        CODE_GENDER_F  CODE_GENDER_M  FLAG_OWN_CAR_N  FLAG_OWN_CAR_Y  TARGET  \\\n",
       "54382             1.0            0.0             1.0             0.0       0   \n",
       "252585            1.0            0.0             1.0             0.0       0   \n",
       "181435            1.0            0.0             1.0             0.0       0   \n",
       "116552            1.0            0.0             0.0             1.0       0   \n",
       "255329            1.0            0.0             1.0             0.0       0   \n",
       "\n",
       "        AMT_INCOME_TOTAL_0_100k  AMT_INCOME_TOTAL_100k_150k  \\\n",
       "54382                         0                           1   \n",
       "252585                        0                           0   \n",
       "181435                        0                           1   \n",
       "116552                        0                           1   \n",
       "255329                        0                           0   \n",
       "\n",
       "        AMT_INCOME_TOTAL_150k_200k  ...  AMT_CREDIT_800k_1m  AMT_CREDIT_1m  \\\n",
       "54382                            0  ...                   0              1   \n",
       "252585                           1  ...                   0              1   \n",
       "181435                           0  ...                   0              0   \n",
       "116552                           0  ...                   0              0   \n",
       "255329                           0  ...                   1              0   \n",
       "\n",
       "        AMT_ANNUITY_20k  AMT_ANNUITY_30k  AMT_ANNUITY_46k  AMT_ANNUITY_50k  \\\n",
       "54382                 0                0                1                0   \n",
       "252585                0                0                1                0   \n",
       "181435                0                1                0                0   \n",
       "116552                1                0                0                0   \n",
       "255329                0                0                0                1   \n",
       "\n",
       "        AMT_GOODS_PRICE_300k  AMT_GOODS_PRICE_600k  AMT_GOODS_PRICE_900k  \\\n",
       "54382                      0                     0                     0   \n",
       "252585                     0                     0                     0   \n",
       "181435                     1                     0                     0   \n",
       "116552                     1                     0                     0   \n",
       "255329                     0                     0                     0   \n",
       "\n",
       "        AMT_GOODS_PRICE_1m  \n",
       "54382                    0  \n",
       "252585                   1  \n",
       "181435                   0  \n",
       "116552                   0  \n",
       "255329                   0  \n",
       "\n",
       "[5 rows x 27 columns]"
      ]
     },
     "execution_count": 42,
     "metadata": {},
     "output_type": "execute_result"
    }
   ],
   "source": [
    "test_set = load_pickle(\"data/processed/final_test_v3.pkl\")\n",
    "\n",
    "test_set.head()"
   ]
  },
  {
   "cell_type": "code",
   "execution_count": 43,
   "id": "7ef5b503",
   "metadata": {},
   "outputs": [],
   "source": [
    "X_train = dataset.drop([\"TARGET\"], axis=1)\n",
    "y_train = dataset[\"TARGET\"]"
   ]
  },
  {
   "cell_type": "code",
   "execution_count": 44,
   "id": "16992603",
   "metadata": {},
   "outputs": [],
   "source": [
    "X_test = test_set.drop([\"TARGET\"], axis=1)\n",
    "y_test = test_set[\"TARGET\"]"
   ]
  },
  {
   "cell_type": "markdown",
   "id": "2b1e8e77",
   "metadata": {},
   "source": [
    "#### Baseline Modeling "
   ]
  },
  {
   "cell_type": "code",
   "execution_count": 45,
   "id": "761445f2",
   "metadata": {},
   "outputs": [],
   "source": [
    "from sklearn.dummy import DummyClassifier"
   ]
  },
  {
   "cell_type": "code",
   "execution_count": 46,
   "id": "a64b03da",
   "metadata": {},
   "outputs": [],
   "source": [
    "dummy_clf = DummyClassifier(strategy=\"most_frequent\")"
   ]
  },
  {
   "cell_type": "code",
   "execution_count": 47,
   "id": "7f22c35f",
   "metadata": {},
   "outputs": [
    {
     "data": {
      "text/html": [
       "<style>#sk-container-id-3 {color: black;background-color: white;}#sk-container-id-3 pre{padding: 0;}#sk-container-id-3 div.sk-toggleable {background-color: white;}#sk-container-id-3 label.sk-toggleable__label {cursor: pointer;display: block;width: 100%;margin-bottom: 0;padding: 0.3em;box-sizing: border-box;text-align: center;}#sk-container-id-3 label.sk-toggleable__label-arrow:before {content: \"▸\";float: left;margin-right: 0.25em;color: #696969;}#sk-container-id-3 label.sk-toggleable__label-arrow:hover:before {color: black;}#sk-container-id-3 div.sk-estimator:hover label.sk-toggleable__label-arrow:before {color: black;}#sk-container-id-3 div.sk-toggleable__content {max-height: 0;max-width: 0;overflow: hidden;text-align: left;background-color: #f0f8ff;}#sk-container-id-3 div.sk-toggleable__content pre {margin: 0.2em;color: black;border-radius: 0.25em;background-color: #f0f8ff;}#sk-container-id-3 input.sk-toggleable__control:checked~div.sk-toggleable__content {max-height: 200px;max-width: 100%;overflow: auto;}#sk-container-id-3 input.sk-toggleable__control:checked~label.sk-toggleable__label-arrow:before {content: \"▾\";}#sk-container-id-3 div.sk-estimator input.sk-toggleable__control:checked~label.sk-toggleable__label {background-color: #d4ebff;}#sk-container-id-3 div.sk-label input.sk-toggleable__control:checked~label.sk-toggleable__label {background-color: #d4ebff;}#sk-container-id-3 input.sk-hidden--visually {border: 0;clip: rect(1px 1px 1px 1px);clip: rect(1px, 1px, 1px, 1px);height: 1px;margin: -1px;overflow: hidden;padding: 0;position: absolute;width: 1px;}#sk-container-id-3 div.sk-estimator {font-family: monospace;background-color: #f0f8ff;border: 1px dotted black;border-radius: 0.25em;box-sizing: border-box;margin-bottom: 0.5em;}#sk-container-id-3 div.sk-estimator:hover {background-color: #d4ebff;}#sk-container-id-3 div.sk-parallel-item::after {content: \"\";width: 100%;border-bottom: 1px solid gray;flex-grow: 1;}#sk-container-id-3 div.sk-label:hover label.sk-toggleable__label {background-color: #d4ebff;}#sk-container-id-3 div.sk-serial::before {content: \"\";position: absolute;border-left: 1px solid gray;box-sizing: border-box;top: 0;bottom: 0;left: 50%;z-index: 0;}#sk-container-id-3 div.sk-serial {display: flex;flex-direction: column;align-items: center;background-color: white;padding-right: 0.2em;padding-left: 0.2em;position: relative;}#sk-container-id-3 div.sk-item {position: relative;z-index: 1;}#sk-container-id-3 div.sk-parallel {display: flex;align-items: stretch;justify-content: center;background-color: white;position: relative;}#sk-container-id-3 div.sk-item::before, #sk-container-id-3 div.sk-parallel-item::before {content: \"\";position: absolute;border-left: 1px solid gray;box-sizing: border-box;top: 0;bottom: 0;left: 50%;z-index: -1;}#sk-container-id-3 div.sk-parallel-item {display: flex;flex-direction: column;z-index: 1;position: relative;background-color: white;}#sk-container-id-3 div.sk-parallel-item:first-child::after {align-self: flex-end;width: 50%;}#sk-container-id-3 div.sk-parallel-item:last-child::after {align-self: flex-start;width: 50%;}#sk-container-id-3 div.sk-parallel-item:only-child::after {width: 0;}#sk-container-id-3 div.sk-dashed-wrapped {border: 1px dashed gray;margin: 0 0.4em 0.5em 0.4em;box-sizing: border-box;padding-bottom: 0.4em;background-color: white;}#sk-container-id-3 div.sk-label label {font-family: monospace;font-weight: bold;display: inline-block;line-height: 1.2em;}#sk-container-id-3 div.sk-label-container {text-align: center;}#sk-container-id-3 div.sk-container {/* jupyter's `normalize.less` sets `[hidden] { display: none; }` but bootstrap.min.css set `[hidden] { display: none !important; }` so we also need the `!important` here to be able to override the default hidden behavior on the sphinx rendered scikit-learn.org. See: https://github.com/scikit-learn/scikit-learn/issues/21755 */display: inline-block !important;position: relative;}#sk-container-id-3 div.sk-text-repr-fallback {display: none;}</style><div id=\"sk-container-id-3\" class=\"sk-top-container\"><div class=\"sk-text-repr-fallback\"><pre>DummyClassifier(strategy=&#x27;most_frequent&#x27;)</pre><b>In a Jupyter environment, please rerun this cell to show the HTML representation or trust the notebook. <br />On GitHub, the HTML representation is unable to render, please try loading this page with nbviewer.org.</b></div><div class=\"sk-container\" hidden><div class=\"sk-item\"><div class=\"sk-estimator sk-toggleable\"><input class=\"sk-toggleable__control sk-hidden--visually\" id=\"sk-estimator-id-3\" type=\"checkbox\" checked><label for=\"sk-estimator-id-3\" class=\"sk-toggleable__label sk-toggleable__label-arrow\">DummyClassifier</label><div class=\"sk-toggleable__content\"><pre>DummyClassifier(strategy=&#x27;most_frequent&#x27;)</pre></div></div></div></div></div>"
      ],
      "text/plain": [
       "DummyClassifier(strategy='most_frequent')"
      ]
     },
     "execution_count": 47,
     "metadata": {},
     "output_type": "execute_result"
    }
   ],
   "source": [
    "dummy_clf.fit(X_train, y_train)"
   ]
  },
  {
   "cell_type": "code",
   "execution_count": 48,
   "id": "c320b285",
   "metadata": {},
   "outputs": [
    {
     "data": {
      "text/plain": [
       "array([0, 0, 0, 0, 0, 0, 0, 0, 0, 0, 0, 0, 0, 0, 0, 0, 0, 0, 0, 0, 0, 0,\n",
       "       0, 0, 0, 0, 0, 0, 0, 0, 0, 0, 0, 0, 0, 0, 0, 0, 0, 0, 0, 0, 0, 0,\n",
       "       0, 0, 0, 0, 0, 0, 0, 0, 0, 0, 0, 0, 0, 0, 0, 0, 0, 0, 0, 0, 0, 0,\n",
       "       0, 0, 0, 0, 0, 0, 0, 0, 0, 0, 0, 0, 0, 0, 0, 0, 0, 0, 0, 0, 0, 0,\n",
       "       0, 0, 0, 0, 0, 0, 0, 0, 0, 0, 0, 0, 0, 0, 0, 0, 0, 0, 0, 0, 0, 0,\n",
       "       0, 0, 0, 0, 0, 0, 0, 0, 0, 0, 0, 0, 0, 0, 0, 0, 0, 0, 0, 0, 0, 0,\n",
       "       0, 0, 0, 0, 0, 0, 0, 0, 0, 0, 0, 0, 0, 0, 0, 0, 0, 0, 0, 0, 0, 0,\n",
       "       0, 0, 0, 0, 0, 0, 0, 0, 0, 0, 0, 0, 0, 0, 0, 0, 0, 0, 0, 0, 0, 0,\n",
       "       0, 0, 0, 0, 0, 0, 0, 0, 0, 0, 0, 0, 0, 0, 0, 0, 0, 0, 0, 0, 0, 0,\n",
       "       0, 0, 0, 0, 0, 0, 0, 0, 0, 0, 0, 0, 0, 0, 0, 0, 0, 0, 0, 0, 0, 0,\n",
       "       0, 0, 0, 0, 0, 0, 0, 0, 0, 0, 0, 0, 0, 0, 0, 0, 0, 0, 0, 0, 0, 0,\n",
       "       0, 0, 0, 0, 0, 0, 0, 0, 0, 0, 0, 0, 0, 0, 0, 0, 0, 0, 0, 0, 0, 0,\n",
       "       0, 0, 0, 0, 0, 0, 0, 0, 0, 0, 0, 0, 0, 0, 0, 0, 0, 0, 0, 0, 0, 0,\n",
       "       0, 0, 0, 0, 0, 0, 0, 0, 0, 0, 0, 0, 0, 0, 0, 0, 0, 0, 0, 0, 0, 0,\n",
       "       0, 0, 0, 0, 0, 0, 0, 0, 0, 0, 0, 0, 0, 0, 0, 0, 0, 0, 0, 0, 0, 0,\n",
       "       0, 0, 0, 0, 0, 0, 0, 0, 0, 0, 0, 0, 0, 0, 0, 0, 0, 0, 0, 0, 0, 0,\n",
       "       0, 0, 0, 0, 0, 0, 0, 0, 0, 0, 0, 0, 0, 0, 0, 0, 0, 0, 0, 0, 0, 0,\n",
       "       0, 0, 0, 0, 0, 0, 0, 0, 0, 0, 0, 0, 0, 0, 0, 0, 0, 0, 0, 0, 0, 0,\n",
       "       0, 0, 0, 0])"
      ]
     },
     "execution_count": 48,
     "metadata": {},
     "output_type": "execute_result"
    }
   ],
   "source": [
    "dummy_clf.predict(X_test)"
   ]
  },
  {
   "cell_type": "code",
   "execution_count": 49,
   "id": "d47a563e",
   "metadata": {},
   "outputs": [
    {
     "data": {
      "text/plain": [
       "0.92"
      ]
     },
     "execution_count": 49,
     "metadata": {},
     "output_type": "execute_result"
    }
   ],
   "source": [
    "acc_test_dummy = dummy_clf.score(X_test, y_test)\n",
    "acc_test_dummy"
   ]
  },
  {
   "cell_type": "markdown",
   "id": "98d3cc0d",
   "metadata": {},
   "source": [
    "#### Modeling with Logistic Regression"
   ]
  },
  {
   "cell_type": "code",
   "execution_count": 50,
   "id": "7f227e87",
   "metadata": {},
   "outputs": [],
   "source": [
    "from sklearn.linear_model import LogisticRegression\n",
    "from sklearn.metrics import classification_report, accuracy_score"
   ]
  },
  {
   "cell_type": "code",
   "execution_count": 51,
   "id": "74900cc0",
   "metadata": {},
   "outputs": [],
   "source": [
    "logreg = LogisticRegression()"
   ]
  },
  {
   "cell_type": "code",
   "execution_count": 52,
   "id": "6c18d722",
   "metadata": {},
   "outputs": [
    {
     "data": {
      "text/html": [
       "<style>#sk-container-id-4 {color: black;background-color: white;}#sk-container-id-4 pre{padding: 0;}#sk-container-id-4 div.sk-toggleable {background-color: white;}#sk-container-id-4 label.sk-toggleable__label {cursor: pointer;display: block;width: 100%;margin-bottom: 0;padding: 0.3em;box-sizing: border-box;text-align: center;}#sk-container-id-4 label.sk-toggleable__label-arrow:before {content: \"▸\";float: left;margin-right: 0.25em;color: #696969;}#sk-container-id-4 label.sk-toggleable__label-arrow:hover:before {color: black;}#sk-container-id-4 div.sk-estimator:hover label.sk-toggleable__label-arrow:before {color: black;}#sk-container-id-4 div.sk-toggleable__content {max-height: 0;max-width: 0;overflow: hidden;text-align: left;background-color: #f0f8ff;}#sk-container-id-4 div.sk-toggleable__content pre {margin: 0.2em;color: black;border-radius: 0.25em;background-color: #f0f8ff;}#sk-container-id-4 input.sk-toggleable__control:checked~div.sk-toggleable__content {max-height: 200px;max-width: 100%;overflow: auto;}#sk-container-id-4 input.sk-toggleable__control:checked~label.sk-toggleable__label-arrow:before {content: \"▾\";}#sk-container-id-4 div.sk-estimator input.sk-toggleable__control:checked~label.sk-toggleable__label {background-color: #d4ebff;}#sk-container-id-4 div.sk-label input.sk-toggleable__control:checked~label.sk-toggleable__label {background-color: #d4ebff;}#sk-container-id-4 input.sk-hidden--visually {border: 0;clip: rect(1px 1px 1px 1px);clip: rect(1px, 1px, 1px, 1px);height: 1px;margin: -1px;overflow: hidden;padding: 0;position: absolute;width: 1px;}#sk-container-id-4 div.sk-estimator {font-family: monospace;background-color: #f0f8ff;border: 1px dotted black;border-radius: 0.25em;box-sizing: border-box;margin-bottom: 0.5em;}#sk-container-id-4 div.sk-estimator:hover {background-color: #d4ebff;}#sk-container-id-4 div.sk-parallel-item::after {content: \"\";width: 100%;border-bottom: 1px solid gray;flex-grow: 1;}#sk-container-id-4 div.sk-label:hover label.sk-toggleable__label {background-color: #d4ebff;}#sk-container-id-4 div.sk-serial::before {content: \"\";position: absolute;border-left: 1px solid gray;box-sizing: border-box;top: 0;bottom: 0;left: 50%;z-index: 0;}#sk-container-id-4 div.sk-serial {display: flex;flex-direction: column;align-items: center;background-color: white;padding-right: 0.2em;padding-left: 0.2em;position: relative;}#sk-container-id-4 div.sk-item {position: relative;z-index: 1;}#sk-container-id-4 div.sk-parallel {display: flex;align-items: stretch;justify-content: center;background-color: white;position: relative;}#sk-container-id-4 div.sk-item::before, #sk-container-id-4 div.sk-parallel-item::before {content: \"\";position: absolute;border-left: 1px solid gray;box-sizing: border-box;top: 0;bottom: 0;left: 50%;z-index: -1;}#sk-container-id-4 div.sk-parallel-item {display: flex;flex-direction: column;z-index: 1;position: relative;background-color: white;}#sk-container-id-4 div.sk-parallel-item:first-child::after {align-self: flex-end;width: 50%;}#sk-container-id-4 div.sk-parallel-item:last-child::after {align-self: flex-start;width: 50%;}#sk-container-id-4 div.sk-parallel-item:only-child::after {width: 0;}#sk-container-id-4 div.sk-dashed-wrapped {border: 1px dashed gray;margin: 0 0.4em 0.5em 0.4em;box-sizing: border-box;padding-bottom: 0.4em;background-color: white;}#sk-container-id-4 div.sk-label label {font-family: monospace;font-weight: bold;display: inline-block;line-height: 1.2em;}#sk-container-id-4 div.sk-label-container {text-align: center;}#sk-container-id-4 div.sk-container {/* jupyter's `normalize.less` sets `[hidden] { display: none; }` but bootstrap.min.css set `[hidden] { display: none !important; }` so we also need the `!important` here to be able to override the default hidden behavior on the sphinx rendered scikit-learn.org. See: https://github.com/scikit-learn/scikit-learn/issues/21755 */display: inline-block !important;position: relative;}#sk-container-id-4 div.sk-text-repr-fallback {display: none;}</style><div id=\"sk-container-id-4\" class=\"sk-top-container\"><div class=\"sk-text-repr-fallback\"><pre>LogisticRegression()</pre><b>In a Jupyter environment, please rerun this cell to show the HTML representation or trust the notebook. <br />On GitHub, the HTML representation is unable to render, please try loading this page with nbviewer.org.</b></div><div class=\"sk-container\" hidden><div class=\"sk-item\"><div class=\"sk-estimator sk-toggleable\"><input class=\"sk-toggleable__control sk-hidden--visually\" id=\"sk-estimator-id-4\" type=\"checkbox\" checked><label for=\"sk-estimator-id-4\" class=\"sk-toggleable__label sk-toggleable__label-arrow\">LogisticRegression</label><div class=\"sk-toggleable__content\"><pre>LogisticRegression()</pre></div></div></div></div></div>"
      ],
      "text/plain": [
       "LogisticRegression()"
      ]
     },
     "execution_count": 52,
     "metadata": {},
     "output_type": "execute_result"
    }
   ],
   "source": [
    "logreg.fit(X_train, y_train)"
   ]
  },
  {
   "cell_type": "code",
   "execution_count": 53,
   "id": "b2afb7ca",
   "metadata": {},
   "outputs": [
    {
     "data": {
      "text/plain": [
       "array([[0.89561766, 0.10438234],\n",
       "       [0.93807162, 0.06192838],\n",
       "       [0.93646948, 0.06353052],\n",
       "       ...,\n",
       "       [0.88697722, 0.11302278],\n",
       "       [0.96688673, 0.03311327],\n",
       "       [0.87906259, 0.12093741]])"
      ]
     },
     "execution_count": 53,
     "metadata": {},
     "output_type": "execute_result"
    }
   ],
   "source": [
    "y_pred_train_proba = logreg.predict_proba(X_train)\n",
    "\n",
    "y_pred_train_proba"
   ]
  },
  {
   "cell_type": "code",
   "execution_count": 54,
   "id": "27370f4d",
   "metadata": {},
   "outputs": [],
   "source": [
    "y_pred_train = logreg.predict(X_train)"
   ]
  },
  {
   "cell_type": "code",
   "execution_count": 55,
   "id": "484a2576",
   "metadata": {},
   "outputs": [
    {
     "data": {
      "text/plain": [
       "0.92"
      ]
     },
     "execution_count": 55,
     "metadata": {},
     "output_type": "execute_result"
    }
   ],
   "source": [
    "acc_train = accuracy_score(y_train, y_pred_train)\n",
    "acc_train"
   ]
  },
  {
   "cell_type": "code",
   "execution_count": 56,
   "id": "ca3f799a",
   "metadata": {},
   "outputs": [],
   "source": [
    "y_pred_test = logreg.predict(X_test)"
   ]
  },
  {
   "cell_type": "code",
   "execution_count": 57,
   "id": "3db839ae",
   "metadata": {},
   "outputs": [
    {
     "data": {
      "text/plain": [
       "0.92"
      ]
     },
     "execution_count": 57,
     "metadata": {},
     "output_type": "execute_result"
    }
   ],
   "source": [
    "acc_test = accuracy_score(y_test, y_pred_test)\n",
    "acc_test"
   ]
  },
  {
   "cell_type": "code",
   "execution_count": 58,
   "id": "48a50219",
   "metadata": {},
   "outputs": [
    {
     "name": "stdout",
     "output_type": "stream",
     "text": [
      "Logistic Regression training accuracy 0.92\n",
      "Logistic Regression test accuracy 0.92\n"
     ]
    }
   ],
   "source": [
    "print(f\"Logistic Regression training accuracy {acc_train}\")\n",
    "print(f\"Logistic Regression test accuracy {acc_test}\")"
   ]
  },
  {
   "cell_type": "code",
   "execution_count": 59,
   "id": "ea0dec26",
   "metadata": {},
   "outputs": [
    {
     "name": "stdout",
     "output_type": "stream",
     "text": [
      "              precision    recall  f1-score   support\n",
      "\n",
      "           0       0.92      1.00      0.96       368\n",
      "           1       0.00      0.00      0.00        32\n",
      "\n",
      "    accuracy                           0.92       400\n",
      "   macro avg       0.46      0.50      0.48       400\n",
      "weighted avg       0.85      0.92      0.88       400\n",
      "\n"
     ]
    },
    {
     "name": "stderr",
     "output_type": "stream",
     "text": [
      "/home/shandytp/miniconda3/envs/myenv/lib/python3.10/site-packages/sklearn/metrics/_classification.py:1344: UndefinedMetricWarning: Precision and F-score are ill-defined and being set to 0.0 in labels with no predicted samples. Use `zero_division` parameter to control this behavior.\n",
      "  _warn_prf(average, modifier, msg_start, len(result))\n",
      "/home/shandytp/miniconda3/envs/myenv/lib/python3.10/site-packages/sklearn/metrics/_classification.py:1344: UndefinedMetricWarning: Precision and F-score are ill-defined and being set to 0.0 in labels with no predicted samples. Use `zero_division` parameter to control this behavior.\n",
      "  _warn_prf(average, modifier, msg_start, len(result))\n",
      "/home/shandytp/miniconda3/envs/myenv/lib/python3.10/site-packages/sklearn/metrics/_classification.py:1344: UndefinedMetricWarning: Precision and F-score are ill-defined and being set to 0.0 in labels with no predicted samples. Use `zero_division` parameter to control this behavior.\n",
      "  _warn_prf(average, modifier, msg_start, len(result))\n"
     ]
    }
   ],
   "source": [
    "print(classification_report(y_test, y_pred_test))"
   ]
  },
  {
   "cell_type": "code",
   "execution_count": 60,
   "id": "ae2b2538",
   "metadata": {},
   "outputs": [
    {
     "name": "stdout",
     "output_type": "stream",
     "text": [
      "Optimization terminated successfully.\n",
      "         Current function value: 0.268657\n",
      "         Iterations 12\n",
      "                           Logit Regression Results                           \n",
      "==============================================================================\n",
      "Dep. Variable:                 TARGET   No. Observations:                 1600\n",
      "Model:                          Logit   Df Residuals:                     1579\n",
      "Method:                           MLE   Df Model:                           20\n",
      "Date:                Mon, 17 Apr 2023   Pseudo R-squ.:                 0.03627\n",
      "Time:                        16:15:02   Log-Likelihood:                -429.85\n",
      "converged:                       True   LL-Null:                       -446.03\n",
      "Covariance Type:            nonrobust   LLR p-value:                   0.03962\n",
      "======================================================================================================\n",
      "                                         coef    std err          z      P>|z|      [0.025      0.975]\n",
      "------------------------------------------------------------------------------------------------------\n",
      "const                                 -0.7793   8.05e+06  -9.69e-08      1.000   -1.58e+07    1.58e+07\n",
      "NAME_CONTRACT_TYPE_Cash loans         -0.3971   1.82e+07  -2.18e-08      1.000   -3.57e+07    3.57e+07\n",
      "NAME_CONTRACT_TYPE_Revolving loans    -0.3822   2.12e+07   -1.8e-08      1.000   -4.16e+07    4.16e+07\n",
      "CODE_GENDER_F                         -0.7757   8.41e+06  -9.22e-08      1.000   -1.65e+07    1.65e+07\n",
      "CODE_GENDER_M                         -0.0035   8.79e+06  -4.04e-10      1.000   -1.72e+07    1.72e+07\n",
      "FLAG_OWN_CAR_N                        -0.0115   1.05e+07  -1.09e-09      1.000   -2.05e+07    2.05e+07\n",
      "FLAG_OWN_CAR_Y                        -0.7678   1.01e+07  -7.61e-08      1.000   -1.98e+07    1.98e+07\n",
      "AMT_INCOME_TOTAL_0_100k               -0.0406   7.93e+06  -5.12e-09      1.000   -1.55e+07    1.55e+07\n",
      "AMT_INCOME_TOTAL_100k_150k             0.2729   7.56e+06   3.61e-08      1.000   -1.48e+07    1.48e+07\n",
      "AMT_INCOME_TOTAL_150k_200k             0.1903   7.75e+06   2.46e-08      1.000   -1.52e+07    1.52e+07\n",
      "AMT_INCOME_TOTAL_200k_250k            -0.3109   7.93e+06  -3.92e-08      1.000   -1.55e+07    1.55e+07\n",
      "AMT_INCOME_TOTAL_250k_300k            -0.9072   8.28e+06   -1.1e-07      1.000   -1.62e+07    1.62e+07\n",
      "AMT_INCOME_TOTAL_>_300k                0.0162   8.02e+06   2.02e-09      1.000   -1.57e+07    1.57e+07\n",
      "AMT_CREDIT_0_200k                     -0.1276   1.04e+07  -1.22e-08      1.000   -2.04e+07    2.04e+07\n",
      "AMT_CREDIT_200k_400k                   0.4288   1.06e+07   4.05e-08      1.000   -2.07e+07    2.07e+07\n",
      "AMT_CREDIT_400k_600k                   0.0650   1.03e+07   6.33e-09      1.000   -2.01e+07    2.01e+07\n",
      "AMT_CREDIT_600k_800k                  -0.3625   1.04e+07  -3.48e-08      1.000   -2.04e+07    2.04e+07\n",
      "AMT_CREDIT_800k_1m                    -0.4051   9.81e+06  -4.13e-08      1.000   -1.92e+07    1.92e+07\n",
      "AMT_CREDIT_1m                         -0.3779   1.07e+07  -3.53e-08      1.000    -2.1e+07     2.1e+07\n",
      "AMT_ANNUITY_20k                       -0.3699   6.91e+06  -5.35e-08      1.000   -1.35e+07    1.35e+07\n",
      "AMT_ANNUITY_30k                       -0.1999   6.91e+06  -2.89e-08      1.000   -1.35e+07    1.35e+07\n",
      "AMT_ANNUITY_46k                       -0.1572   6.91e+06  -2.28e-08      1.000   -1.35e+07    1.35e+07\n",
      "AMT_ANNUITY_50k                       -0.0522   6.91e+06  -7.56e-09      1.000   -1.35e+07    1.35e+07\n",
      "AMT_GOODS_PRICE_300k                  -0.5495      1.029     -0.534      0.593      -2.566       1.467\n",
      "AMT_GOODS_PRICE_600k                  -0.3181      0.934     -0.341      0.733      -2.149       1.513\n",
      "AMT_GOODS_PRICE_900k                  -0.2476      0.740     -0.335      0.738      -1.697       1.202\n",
      "AMT_GOODS_PRICE_1m                    -0.0240      0.694     -0.035      0.972      -1.385       1.337\n",
      "======================================================================================================\n"
     ]
    }
   ],
   "source": [
    "import statsmodels.api as sm\n",
    "\n",
    "X2 = sm.add_constant(X_train)\n",
    "est = sm.Logit(y_train, X2)\n",
    "est2 = est.fit()\n",
    "print(est2.summary())"
   ]
  },
  {
   "cell_type": "code",
   "execution_count": 61,
   "id": "862317b4",
   "metadata": {},
   "outputs": [],
   "source": [
    "result_coef = pd.read_html(est2.summary().tables[1].as_html(),header=0,index_col=0,flavor='html5lib')[0]\n",
    "result_coef = result_coef[\"coef\"]"
   ]
  },
  {
   "cell_type": "code",
   "execution_count": 62,
   "id": "f0740b56",
   "metadata": {},
   "outputs": [
    {
     "name": "stderr",
     "output_type": "stream",
     "text": [
      "/home/shandytp/miniconda3/envs/myenv/lib/python3.10/site-packages/sklearn/linear_model/_logistic.py:1173: FutureWarning: `penalty='none'`has been deprecated in 1.2 and will be removed in 1.4. To keep the past behaviour, set `penalty=None`.\n",
      "  warnings.warn(\n",
      "/home/shandytp/miniconda3/envs/myenv/lib/python3.10/site-packages/sklearn/linear_model/_logistic.py:1181: UserWarning: Setting penalty=None will ignore the C and l1_ratio parameters\n",
      "  warnings.warn(\n",
      "/home/shandytp/miniconda3/envs/myenv/lib/python3.10/site-packages/sklearn/linear_model/_logistic.py:1173: FutureWarning: `penalty='none'`has been deprecated in 1.2 and will be removed in 1.4. To keep the past behaviour, set `penalty=None`.\n",
      "  warnings.warn(\n",
      "/home/shandytp/miniconda3/envs/myenv/lib/python3.10/site-packages/sklearn/linear_model/_logistic.py:1181: UserWarning: Setting penalty=None will ignore the C and l1_ratio parameters\n",
      "  warnings.warn(\n",
      "/home/shandytp/miniconda3/envs/myenv/lib/python3.10/site-packages/sklearn/linear_model/_logistic.py:1173: FutureWarning: `penalty='none'`has been deprecated in 1.2 and will be removed in 1.4. To keep the past behaviour, set `penalty=None`.\n",
      "  warnings.warn(\n",
      "/home/shandytp/miniconda3/envs/myenv/lib/python3.10/site-packages/sklearn/linear_model/_logistic.py:1181: UserWarning: Setting penalty=None will ignore the C and l1_ratio parameters\n",
      "  warnings.warn(\n",
      "/home/shandytp/miniconda3/envs/myenv/lib/python3.10/site-packages/sklearn/linear_model/_logistic.py:1173: FutureWarning: `penalty='none'`has been deprecated in 1.2 and will be removed in 1.4. To keep the past behaviour, set `penalty=None`.\n",
      "  warnings.warn(\n",
      "/home/shandytp/miniconda3/envs/myenv/lib/python3.10/site-packages/sklearn/linear_model/_logistic.py:1181: UserWarning: Setting penalty=None will ignore the C and l1_ratio parameters\n",
      "  warnings.warn(\n",
      "/home/shandytp/miniconda3/envs/myenv/lib/python3.10/site-packages/sklearn/linear_model/_logistic.py:1173: FutureWarning: `penalty='none'`has been deprecated in 1.2 and will be removed in 1.4. To keep the past behaviour, set `penalty=None`.\n",
      "  warnings.warn(\n",
      "/home/shandytp/miniconda3/envs/myenv/lib/python3.10/site-packages/sklearn/linear_model/_logistic.py:1181: UserWarning: Setting penalty=None will ignore the C and l1_ratio parameters\n",
      "  warnings.warn(\n",
      "/home/shandytp/miniconda3/envs/myenv/lib/python3.10/site-packages/sklearn/linear_model/_logistic.py:1173: FutureWarning: `penalty='none'`has been deprecated in 1.2 and will be removed in 1.4. To keep the past behaviour, set `penalty=None`.\n",
      "  warnings.warn(\n",
      "/home/shandytp/miniconda3/envs/myenv/lib/python3.10/site-packages/sklearn/linear_model/_logistic.py:1181: UserWarning: Setting penalty=None will ignore the C and l1_ratio parameters\n",
      "  warnings.warn(\n",
      "/home/shandytp/miniconda3/envs/myenv/lib/python3.10/site-packages/sklearn/linear_model/_logistic.py:1173: FutureWarning: `penalty='none'`has been deprecated in 1.2 and will be removed in 1.4. To keep the past behaviour, set `penalty=None`.\n",
      "  warnings.warn(\n",
      "/home/shandytp/miniconda3/envs/myenv/lib/python3.10/site-packages/sklearn/linear_model/_logistic.py:1181: UserWarning: Setting penalty=None will ignore the C and l1_ratio parameters\n",
      "  warnings.warn(\n",
      "/home/shandytp/miniconda3/envs/myenv/lib/python3.10/site-packages/sklearn/linear_model/_logistic.py:1173: FutureWarning: `penalty='none'`has been deprecated in 1.2 and will be removed in 1.4. To keep the past behaviour, set `penalty=None`.\n",
      "  warnings.warn(\n",
      "/home/shandytp/miniconda3/envs/myenv/lib/python3.10/site-packages/sklearn/linear_model/_logistic.py:1181: UserWarning: Setting penalty=None will ignore the C and l1_ratio parameters\n",
      "  warnings.warn(\n",
      "/home/shandytp/miniconda3/envs/myenv/lib/python3.10/site-packages/sklearn/linear_model/_logistic.py:1173: FutureWarning: `penalty='none'`has been deprecated in 1.2 and will be removed in 1.4. To keep the past behaviour, set `penalty=None`.\n",
      "  warnings.warn(\n",
      "/home/shandytp/miniconda3/envs/myenv/lib/python3.10/site-packages/sklearn/linear_model/_logistic.py:1181: UserWarning: Setting penalty=None will ignore the C and l1_ratio parameters\n",
      "  warnings.warn(\n",
      "/home/shandytp/miniconda3/envs/myenv/lib/python3.10/site-packages/sklearn/linear_model/_logistic.py:1173: FutureWarning: `penalty='none'`has been deprecated in 1.2 and will be removed in 1.4. To keep the past behaviour, set `penalty=None`.\n",
      "  warnings.warn(\n",
      "/home/shandytp/miniconda3/envs/myenv/lib/python3.10/site-packages/sklearn/linear_model/_logistic.py:1181: UserWarning: Setting penalty=None will ignore the C and l1_ratio parameters\n",
      "  warnings.warn(\n",
      "/home/shandytp/miniconda3/envs/myenv/lib/python3.10/site-packages/sklearn/linear_model/_logistic.py:1173: FutureWarning: `penalty='none'`has been deprecated in 1.2 and will be removed in 1.4. To keep the past behaviour, set `penalty=None`.\n",
      "  warnings.warn(\n",
      "/home/shandytp/miniconda3/envs/myenv/lib/python3.10/site-packages/sklearn/linear_model/_logistic.py:1181: UserWarning: Setting penalty=None will ignore the C and l1_ratio parameters\n",
      "  warnings.warn(\n",
      "/home/shandytp/miniconda3/envs/myenv/lib/python3.10/site-packages/sklearn/linear_model/_logistic.py:1173: FutureWarning: `penalty='none'`has been deprecated in 1.2 and will be removed in 1.4. To keep the past behaviour, set `penalty=None`.\n",
      "  warnings.warn(\n",
      "/home/shandytp/miniconda3/envs/myenv/lib/python3.10/site-packages/sklearn/linear_model/_logistic.py:1181: UserWarning: Setting penalty=None will ignore the C and l1_ratio parameters\n",
      "  warnings.warn(\n",
      "/home/shandytp/miniconda3/envs/myenv/lib/python3.10/site-packages/sklearn/linear_model/_logistic.py:1173: FutureWarning: `penalty='none'`has been deprecated in 1.2 and will be removed in 1.4. To keep the past behaviour, set `penalty=None`.\n",
      "  warnings.warn(\n",
      "/home/shandytp/miniconda3/envs/myenv/lib/python3.10/site-packages/sklearn/linear_model/_logistic.py:1181: UserWarning: Setting penalty=None will ignore the C and l1_ratio parameters\n",
      "  warnings.warn(\n",
      "/home/shandytp/miniconda3/envs/myenv/lib/python3.10/site-packages/sklearn/linear_model/_logistic.py:1173: FutureWarning: `penalty='none'`has been deprecated in 1.2 and will be removed in 1.4. To keep the past behaviour, set `penalty=None`.\n",
      "  warnings.warn(\n",
      "/home/shandytp/miniconda3/envs/myenv/lib/python3.10/site-packages/sklearn/linear_model/_logistic.py:1181: UserWarning: Setting penalty=None will ignore the C and l1_ratio parameters\n",
      "  warnings.warn(\n",
      "/home/shandytp/miniconda3/envs/myenv/lib/python3.10/site-packages/sklearn/linear_model/_logistic.py:1173: FutureWarning: `penalty='none'`has been deprecated in 1.2 and will be removed in 1.4. To keep the past behaviour, set `penalty=None`.\n",
      "  warnings.warn(\n",
      "/home/shandytp/miniconda3/envs/myenv/lib/python3.10/site-packages/sklearn/linear_model/_logistic.py:1181: UserWarning: Setting penalty=None will ignore the C and l1_ratio parameters\n",
      "  warnings.warn(\n",
      "/home/shandytp/miniconda3/envs/myenv/lib/python3.10/site-packages/sklearn/model_selection/_validation.py:378: FitFailedWarning: \n",
      "20 fits failed out of a total of 50.\n",
      "The score on these train-test partitions for these parameters will be set to nan.\n",
      "If these failures are not expected, you can try to debug them by setting error_score='raise'.\n",
      "\n",
      "Below are more details about the failures:\n",
      "--------------------------------------------------------------------------------\n",
      "15 fits failed with the following error:\n",
      "Traceback (most recent call last):\n",
      "  File \"/home/shandytp/miniconda3/envs/myenv/lib/python3.10/site-packages/sklearn/model_selection/_validation.py\", line 686, in _fit_and_score\n",
      "    estimator.fit(X_train, y_train, **fit_params)\n",
      "  File \"/home/shandytp/miniconda3/envs/myenv/lib/python3.10/site-packages/sklearn/linear_model/_logistic.py\", line 1162, in fit\n",
      "    solver = _check_solver(self.solver, self.penalty, self.dual)\n",
      "  File \"/home/shandytp/miniconda3/envs/myenv/lib/python3.10/site-packages/sklearn/linear_model/_logistic.py\", line 54, in _check_solver\n",
      "    raise ValueError(\n",
      "ValueError: Solver lbfgs supports only 'l2' or 'none' penalties, got l1 penalty.\n",
      "\n",
      "--------------------------------------------------------------------------------\n",
      "5 fits failed with the following error:\n",
      "Traceback (most recent call last):\n",
      "  File \"/home/shandytp/miniconda3/envs/myenv/lib/python3.10/site-packages/sklearn/model_selection/_validation.py\", line 686, in _fit_and_score\n",
      "    estimator.fit(X_train, y_train, **fit_params)\n",
      "  File \"/home/shandytp/miniconda3/envs/myenv/lib/python3.10/site-packages/sklearn/linear_model/_logistic.py\", line 1162, in fit\n",
      "    solver = _check_solver(self.solver, self.penalty, self.dual)\n",
      "  File \"/home/shandytp/miniconda3/envs/myenv/lib/python3.10/site-packages/sklearn/linear_model/_logistic.py\", line 54, in _check_solver\n",
      "    raise ValueError(\n",
      "ValueError: Solver lbfgs supports only 'l2' or 'none' penalties, got elasticnet penalty.\n",
      "\n",
      "  warnings.warn(some_fits_failed_message, FitFailedWarning)\n",
      "/home/shandytp/miniconda3/envs/myenv/lib/python3.10/site-packages/sklearn/model_selection/_search.py:952: UserWarning: One or more of the test scores are non-finite: [0.5262314  0.53863901        nan 0.5262314  0.54172735        nan\n",
      "        nan        nan 0.55469451 0.5262314 ]\n",
      "  warnings.warn(\n"
     ]
    },
    {
     "data": {
      "text/plain": [
       "{'penalty': 'l2', 'C': 0.05405405405405406}"
      ]
     },
     "execution_count": 62,
     "metadata": {},
     "output_type": "execute_result"
    }
   ],
   "source": [
    "# train model\n",
    "from sklearn.linear_model import LogisticRegression\n",
    "from sklearn.model_selection import RandomizedSearchCV, StratifiedKFold\n",
    "\n",
    "param = {\n",
    "    'penalty' : ['none', 'l2', 'l1', 'elasticnet'],\n",
    "    'C' : [float(x) for x in np.linspace(start=0, stop=1, num=75)]\n",
    "     }\n",
    "\n",
    "# stratified kfold\n",
    "skf = StratifiedKFold(n_splits=5, shuffle=True, random_state=4)\n",
    "lr = LogisticRegression()\n",
    "\n",
    "# search\n",
    "lr_clf = RandomizedSearchCV(logreg,\n",
    "                            param,\n",
    "                            scoring='roc_auc',\n",
    "                            cv=skf,\n",
    "                            refit=True) # refits best model to entire dataset\n",
    "\n",
    "search_lr = lr_clf.fit(X_train, y_train)\n",
    "\n",
    "# best hyperparameters\n",
    "search_lr.best_params_"
   ]
  },
  {
   "cell_type": "code",
   "execution_count": 63,
   "id": "6d36cf9d",
   "metadata": {},
   "outputs": [
    {
     "name": "stdout",
     "output_type": "stream",
     "text": [
      "AUC Train Proba : 0.63446044921875\n",
      "AUC Test Proba : 0.5785495923913043\n"
     ]
    }
   ],
   "source": [
    "from sklearn.metrics import classification_report, roc_auc_score, roc_curve, auc, confusion_matrix\n",
    "\n",
    "best_params = search_lr.best_params_\n",
    "lr_tuning = LogisticRegression(**best_params)\n",
    "lr_tuning.fit(X_train, y_train)\n",
    "\n",
    "y_train_pred_proba = lr_tuning.predict_proba(X_train)[:][:,1]\n",
    "y_test_pred_lr_proba = lr_tuning.predict_proba(X_test)[:][:,1]\n",
    "\n",
    "print('AUC Train Proba :', roc_auc_score(y_train, y_train_pred_proba))\n",
    "print('AUC Test Proba :', roc_auc_score(y_test, y_test_pred_lr_proba))"
   ]
  },
  {
   "cell_type": "code",
   "execution_count": 64,
   "id": "75be8f4d",
   "metadata": {},
   "outputs": [
    {
     "name": "stdout",
     "output_type": "stream",
     "text": [
      "TRAINING RESULT:\n",
      "======================================================\n",
      "AUC Score: 0.634\n",
      "======================================================\n",
      "Classification Report --------------------------------\n",
      "              precision    recall  f1-score   support\n",
      "\n",
      "           0       0.92      1.00      0.96      1472\n",
      "           1       0.00      0.00      0.00       128\n",
      "\n",
      "    accuracy                           0.92      1600\n",
      "   macro avg       0.46      0.50      0.48      1600\n",
      "weighted avg       0.85      0.92      0.88      1600\n",
      "\n",
      "======================================================\n",
      "Confussion Matrix ------------------------------------\n",
      "[[1472    0]\n",
      " [ 128    0]]\n",
      "\n",
      "======================================================\n",
      "\n",
      "TESTING RESULT:\n",
      "======================================================\n",
      "AUC Score: 0.579\n",
      "======================================================\n",
      "Classification Report --------------------------------\n",
      "              precision    recall  f1-score   support\n",
      "\n",
      "           0       0.92      1.00      0.96       368\n",
      "           1       0.00      0.00      0.00        32\n",
      "\n",
      "    accuracy                           0.92       400\n",
      "   macro avg       0.46      0.50      0.48       400\n",
      "weighted avg       0.85      0.92      0.88       400\n",
      "\n",
      "======================================================\n",
      "Confussion Matrix ------------------------------------\n",
      "[[368   0]\n",
      " [ 32   0]]\n"
     ]
    },
    {
     "name": "stderr",
     "output_type": "stream",
     "text": [
      "/home/shandytp/miniconda3/envs/myenv/lib/python3.10/site-packages/sklearn/metrics/_classification.py:1344: UndefinedMetricWarning: Precision and F-score are ill-defined and being set to 0.0 in labels with no predicted samples. Use `zero_division` parameter to control this behavior.\n",
      "  _warn_prf(average, modifier, msg_start, len(result))\n",
      "/home/shandytp/miniconda3/envs/myenv/lib/python3.10/site-packages/sklearn/metrics/_classification.py:1344: UndefinedMetricWarning: Precision and F-score are ill-defined and being set to 0.0 in labels with no predicted samples. Use `zero_division` parameter to control this behavior.\n",
      "  _warn_prf(average, modifier, msg_start, len(result))\n",
      "/home/shandytp/miniconda3/envs/myenv/lib/python3.10/site-packages/sklearn/metrics/_classification.py:1344: UndefinedMetricWarning: Precision and F-score are ill-defined and being set to 0.0 in labels with no predicted samples. Use `zero_division` parameter to control this behavior.\n",
      "  _warn_prf(average, modifier, msg_start, len(result))\n",
      "/home/shandytp/miniconda3/envs/myenv/lib/python3.10/site-packages/sklearn/metrics/_classification.py:1344: UndefinedMetricWarning: Precision and F-score are ill-defined and being set to 0.0 in labels with no predicted samples. Use `zero_division` parameter to control this behavior.\n",
      "  _warn_prf(average, modifier, msg_start, len(result))\n",
      "/home/shandytp/miniconda3/envs/myenv/lib/python3.10/site-packages/sklearn/metrics/_classification.py:1344: UndefinedMetricWarning: Precision and F-score are ill-defined and being set to 0.0 in labels with no predicted samples. Use `zero_division` parameter to control this behavior.\n",
      "  _warn_prf(average, modifier, msg_start, len(result))\n",
      "/home/shandytp/miniconda3/envs/myenv/lib/python3.10/site-packages/sklearn/metrics/_classification.py:1344: UndefinedMetricWarning: Precision and F-score are ill-defined and being set to 0.0 in labels with no predicted samples. Use `zero_division` parameter to control this behavior.\n",
      "  _warn_prf(average, modifier, msg_start, len(result))\n"
     ]
    }
   ],
   "source": [
    "from sklearn.metrics import classification_report, roc_auc_score, confusion_matrix\n",
    "\n",
    "y_train_proba = lr_tuning.predict_proba(X_train)[:][:,1]\n",
    "y_test_proba = lr_tuning.predict_proba(X_test)[:][:,1]\n",
    "\n",
    "y_train_pred = lr_tuning.predict(X_train)\n",
    "y_test_pred = lr_tuning.predict(X_test)\n",
    "\n",
    "print('TRAINING RESULT:')\n",
    "print('======================================================')\n",
    "print('AUC Score:', np.round(roc_auc_score(y_train, y_train_proba),3))\n",
    "print('======================================================')\n",
    "print('Classification Report --------------------------------')\n",
    "print(classification_report(y_train, y_train_pred))\n",
    "print('======================================================')\n",
    "print('Confussion Matrix ------------------------------------')\n",
    "print(confusion_matrix(y_train, y_train_pred))\n",
    "\n",
    "print('\\n======================================================')\n",
    "\n",
    "print('\\nTESTING RESULT:')\n",
    "print('======================================================')\n",
    "print('AUC Score:', np.round(roc_auc_score(y_test, y_test_proba),3))\n",
    "print('======================================================')\n",
    "print('Classification Report --------------------------------')\n",
    "print(classification_report(y_test, y_test_pred))\n",
    "print('======================================================')\n",
    "print('Confussion Matrix ------------------------------------')\n",
    "print(confusion_matrix(y_test, y_test_pred))"
   ]
  },
  {
   "cell_type": "code",
   "execution_count": 65,
   "id": "e1b7effb",
   "metadata": {},
   "outputs": [
    {
     "data": {
      "text/plain": [
       "<matplotlib.legend.Legend at 0x7f2336c78640>"
      ]
     },
     "execution_count": 65,
     "metadata": {},
     "output_type": "execute_result"
    },
    {
     "data": {
      "image/png": "[encoded data removed]",
      "text/plain": [
       "<Figure size 600x600 with 1 Axes>"
      ]
     },
     "metadata": {},
     "output_type": "display_data"
    }
   ],
   "source": [
    "fpr, tpr, tr = roc_curve(y_test, y_test_proba)\n",
    "auc = roc_auc_score(y_test, y_test_proba)\n",
    "\n",
    "plt.figure(figsize=(6,6))\n",
    "plt.plot(fpr, tpr, label='AUC = %0.3f' %auc)\n",
    "plt.plot(fpr, fpr, linestyle = '--', color='grey')\n",
    "plt.xlabel('False Positive Rate', fontsize=10)\n",
    "plt.ylabel('True Positive Rate', fontsize=10)\n",
    "plt.title('ROC Curve', fontsize=15)\n",
    "plt.legend()"
   ]
  },
  {
   "cell_type": "code",
   "execution_count": 66,
   "id": "fa5f95b9",
   "metadata": {},
   "outputs": [
    {
     "data": {
      "image/png": "[encoded data removed]",
      "text/plain": [
       "<Figure size 700x500 with 1 Axes>"
      ]
     },
     "metadata": {},
     "output_type": "display_data"
    }
   ],
   "source": [
    "import scikitplot as skplt\n",
    "y_pred_proba = lr_tuning.predict_proba(X_test)\n",
    "\n",
    "skplt.metrics.plot_ks_statistic(y_test, y_pred_proba, figsize=(7,5));"
   ]
  },
  {
   "cell_type": "markdown",
   "id": "3bcaad42",
   "metadata": {},
   "source": [
    "#### Convert to Score "
   ]
  },
  {
   "cell_type": "code",
   "execution_count": 67,
   "id": "10afa92d",
   "metadata": {},
   "outputs": [
    {
     "data": {
      "text/plain": [
       "const                                -0.7793\n",
       "NAME_CONTRACT_TYPE_Cash loans        -0.3971\n",
       "NAME_CONTRACT_TYPE_Revolving loans   -0.3822\n",
       "CODE_GENDER_F                        -0.7757\n",
       "CODE_GENDER_M                        -0.0035\n",
       "FLAG_OWN_CAR_N                       -0.0115\n",
       "FLAG_OWN_CAR_Y                       -0.7678\n",
       "AMT_INCOME_TOTAL_0_100k              -0.0406\n",
       "AMT_INCOME_TOTAL_100k_150k            0.2729\n",
       "AMT_INCOME_TOTAL_150k_200k            0.1903\n",
       "AMT_INCOME_TOTAL_200k_250k           -0.3109\n",
       "AMT_INCOME_TOTAL_250k_300k           -0.9072\n",
       "AMT_INCOME_TOTAL_>_300k               0.0162\n",
       "AMT_CREDIT_0_200k                    -0.1276\n",
       "AMT_CREDIT_200k_400k                  0.4288\n",
       "AMT_CREDIT_400k_600k                  0.0650\n",
       "AMT_CREDIT_600k_800k                 -0.3625\n",
       "AMT_CREDIT_800k_1m                   -0.4051\n",
       "AMT_CREDIT_1m                        -0.3779\n",
       "AMT_ANNUITY_20k                      -0.3699\n",
       "AMT_ANNUITY_30k                      -0.1999\n",
       "AMT_ANNUITY_46k                      -0.1572\n",
       "AMT_ANNUITY_50k                      -0.0522\n",
       "AMT_GOODS_PRICE_300k                 -0.5495\n",
       "AMT_GOODS_PRICE_600k                 -0.3181\n",
       "AMT_GOODS_PRICE_900k                 -0.2476\n",
       "AMT_GOODS_PRICE_1m                   -0.0240\n",
       "Name: coef, dtype: float64"
      ]
     },
     "execution_count": 67,
     "metadata": {},
     "output_type": "execute_result"
    }
   ],
   "source": [
    "result_coef"
   ]
  },
  {
   "cell_type": "markdown",
   "id": "cf25be7d",
   "metadata": {},
   "source": [
    "Formula convert to Score\n",
    "\n",
    "$$\n",
    "\\sum_{j, i=1}^{k, n} (-(woe_j * \\beta_i + \\frac{a}{n})*\\text{factor} + \\frac{\\text{offset}}{n})\n",
    "$$"
   ]
  },
  {
   "cell_type": "markdown",
   "id": "f9d51b33",
   "metadata": {},
   "source": [
    "Ada dua cara:\n",
    "1. Kita input data manual buat coef dan WOE\n",
    "2. Dibuat otomasi, but how???\n",
    "\n",
    "Untuk value PDO, Base Score, dan Odds nya sudah ditentuin darisana nya"
   ]
  },
  {
   "cell_type": "code",
   "execution_count": 68,
   "id": "9ca6c341",
   "metadata": {},
   "outputs": [],
   "source": [
    "PDO = 20\n",
    "BASE_SCORE = 600\n",
    "ODDS = 50\n",
    "\n",
    "\n",
    "FACTOR = PDO / np.log(2)\n",
    "OFFSET = BASE_SCORE - (FACTOR * np.log(ODDS))"
   ]
  },
  {
   "cell_type": "code",
   "execution_count": 69,
   "id": "1b838230",
   "metadata": {},
   "outputs": [
    {
     "data": {
      "text/plain": [
       "26.724124669409232"
      ]
     },
     "execution_count": 69,
     "metadata": {},
     "output_type": "execute_result"
    }
   ],
   "source": [
    "# Cash Loans Point\n",
    "-(0.685094 * -0.3971 + (-0.7793 / 27)) * FACTOR + OFFSET/27 "
   ]
  },
  {
   "cell_type": "code",
   "execution_count": null,
   "id": "10a417cd",
   "metadata": {},
   "outputs": [],
   "source": []
  }
 ],
 "metadata": {
  "kernelspec": {
   "display_name": "Python 3 (ipykernel)",
   "language": "python",
   "name": "python3"
  },
  "language_info": {
   "codemirror_mode": {
    "name": "ipython",
    "version": 3
   },
   "file_extension": ".py",
   "mimetype": "text/x-python",
   "name": "python",
   "nbconvert_exporter": "python",
   "pygments_lexer": "ipython3",
   "version": "3.10.8"
  }
 },
 "nbformat": 4,
 "nbformat_minor": 5
}
